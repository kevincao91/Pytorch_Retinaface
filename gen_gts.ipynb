{
 "cells": [
  {
   "cell_type": "code",
   "execution_count": 1,
   "metadata": {
    "ExecuteTime": {
     "end_time": "2021-01-15T00:55:05.172130Z",
     "start_time": "2021-01-15T00:55:05.169636Z"
    }
   },
   "outputs": [],
   "source": [
    "import os\n",
    "import glob"
   ]
  },
  {
   "cell_type": "code",
   "execution_count": 47,
   "metadata": {
    "ExecuteTime": {
     "end_time": "2021-01-15T03:14:16.171588Z",
     "start_time": "2021-01-15T03:14:16.166513Z"
    }
   },
   "outputs": [
    {
     "name": "stdout",
     "output_type": "stream",
     "text": [
      "615\n"
     ]
    },
    {
     "data": {
      "text/plain": [
       "['./data/hhz/val/images/0003.jpg',\n",
       " './data/hhz/val/images/0013.jpg',\n",
       " './data/hhz/val/images/0023.jpg',\n",
       " './data/hhz/val/images/0030.jpg',\n",
       " './data/hhz/val/images/0031.jpg']"
      ]
     },
     "execution_count": 47,
     "metadata": {},
     "output_type": "execute_result"
    }
   ],
   "source": [
    "val_dir = \"./data/hhz/val/images/\"\n",
    "val_imgs = glob.glob(val_dir + \"*.jpg\")\n",
    "print(len(val_imgs))\n",
    "val_imgs.sort()\n",
    "val_imgs[:5]"
   ]
  },
  {
   "cell_type": "code",
   "execution_count": null,
   "metadata": {},
   "outputs": [],
   "source": []
  },
  {
   "cell_type": "code",
   "execution_count": 42,
   "metadata": {
    "ExecuteTime": {
     "end_time": "2021-01-15T03:09:12.490418Z",
     "start_time": "2021-01-15T03:09:12.468432Z"
    }
   },
   "outputs": [],
   "source": [
    "labels_txt = \"./data/hhz/train/label.txt\"\n",
    "with open(labels_txt) as f:\n",
    "    lines = f.readlines()\n",
    "\n",
    "labels_dict = {}\n",
    "i = 0\n",
    "while i < len(lines):\n",
    "    img_name = lines[i].strip()[2:]\n",
    "    coords = lines[i+1].strip().split(\" \")\n",
    "    x1, y1 = int(coords[0]), int(coords[1])\n",
    "    x2, y2 = x1 + int(coords[2]), y1 + int(coords[3])\n",
    "    p1 = [coords[4], coords[5]]\n",
    "    p2 = [coords[7], coords[8]]\n",
    "    p3 = [coords[10], coords[11]]\n",
    "    labels_dict[img_name] = [str(x1), str(y1), str(x2), str(y2)] + p1 + p2 + p3\n",
    "    i += 2"
   ]
  },
  {
   "cell_type": "code",
   "execution_count": null,
   "metadata": {
    "ExecuteTime": {
     "end_time": "2021-01-15T03:10:07.552728Z",
     "start_time": "2021-01-15T03:10:07.549663Z"
    }
   },
   "outputs": [],
   "source": []
  },
  {
   "cell_type": "code",
   "execution_count": 34,
   "metadata": {
    "ExecuteTime": {
     "end_time": "2021-01-15T02:00:12.598219Z",
     "start_time": "2021-01-15T02:00:12.516892Z"
    }
   },
   "outputs": [],
   "source": [
    "save_dir = \"/media/yee/WorkSpace/mAP-master/input/ground-truth/\"\n",
    "for img_path in val_imgs:\n",
    "    img_name = os.path.basename(img_path)\n",
    "    label = labels_dict.get(img_name)\n",
    "    if label:\n",
    "        text = \" \".join([\"rect\"] + label) + \"\\n\"\n",
    "        save_path = os.path.join(save_dir, img_name.replace(\"jpg\", \"txt\"))\n",
    "        with open (save_path, 'w') as f:\n",
    "            f.write(text)"
   ]
  },
  {
   "cell_type": "code",
   "execution_count": 79,
   "metadata": {
    "ExecuteTime": {
     "end_time": "2021-01-15T03:58:15.980860Z",
     "start_time": "2021-01-15T03:58:15.960008Z"
    }
   },
   "outputs": [],
   "source": [
    "gts_dir = \"/media/yee/WorkSpace/mAP-master/input/ground-truth/\"\n",
    "preds_dir = \"/media/yee/WorkSpace/mAP-master/input/detection-results/\"\n",
    "\n",
    "gts_txt = glob.glob(gts_dir + \"*.txt\")\n",
    "preds_txt = glob.glob(preds_dir + \"*.txt\")\n",
    "gts_txt.sort()\n",
    "preds_txt.sort()\n",
    "assert len(gts_txt) == len(preds_txt)"
   ]
  },
  {
   "cell_type": "code",
   "execution_count": 80,
   "metadata": {
    "ExecuteTime": {
     "end_time": "2021-01-15T03:58:18.426741Z",
     "start_time": "2021-01-15T03:58:18.273501Z"
    }
   },
   "outputs": [],
   "source": [
    "preds, gts = [], []\n",
    "for (gt_file, pred_file) in zip(gts_txt, preds_txt):\n",
    "    if \"ch\" in os.path.basename(gt_file):\n",
    "        continue\n",
    "    gf = open(gt_file)\n",
    "    pf = open(pred_file)\n",
    "#     print(gf.read().strip().split(\" \")[-6:])\n",
    "    gt = gf.read().strip().split(\" \")[-6:]\n",
    "    gt = list(map(float, gt))\n",
    "    pred = [float(x) for x in pf.read().strip().split(\" \")[-6:]]\n",
    "    gts.append(gt)\n",
    "    preds.append(pred)"
   ]
  },
  {
   "cell_type": "code",
   "execution_count": 81,
   "metadata": {
    "ExecuteTime": {
     "end_time": "2021-01-15T03:58:19.041712Z",
     "start_time": "2021-01-15T03:58:19.022810Z"
    }
   },
   "outputs": [
    {
     "data": {
      "text/plain": [
       "8.808320045471191"
      ]
     },
     "execution_count": 81,
     "metadata": {},
     "output_type": "execute_result"
    }
   ],
   "source": [
    "import torch\n",
    "import torch.nn as nn\n",
    "\n",
    "preds = torch.tensor(preds)\n",
    "gts = torch.tensor(gts)\n",
    "\n",
    "loss = nn.L1Loss()\n",
    "output = loss(preds, gts)\n",
    "output.item()"
   ]
  },
  {
   "cell_type": "code",
   "execution_count": 49,
   "metadata": {
    "ExecuteTime": {
     "end_time": "2021-01-15T03:23:41.020327Z",
     "start_time": "2021-01-15T03:23:40.949029Z"
    }
   },
   "outputs": [
    {
     "data": {
      "text/plain": [
       "tensor(1.0581)"
      ]
     },
     "execution_count": 49,
     "metadata": {},
     "output_type": "execute_result"
    }
   ],
   "source": []
  },
  {
   "cell_type": "code",
   "execution_count": null,
   "metadata": {},
   "outputs": [],
   "source": []
  }
 ],
 "metadata": {
  "kernelspec": {
   "display_name": "pytorch-gpu",
   "language": "python",
   "name": "pytorch-gpu"
  },
  "language_info": {
   "codemirror_mode": {
    "name": "ipython",
    "version": 3
   },
   "file_extension": ".py",
   "mimetype": "text/x-python",
   "name": "python",
   "nbconvert_exporter": "python",
   "pygments_lexer": "ipython3",
   "version": "3.6.10"
  },
  "toc": {
   "base_numbering": 1,
   "nav_menu": {},
   "number_sections": true,
   "sideBar": true,
   "skip_h1_title": false,
   "title_cell": "Table of Contents",
   "title_sidebar": "Contents",
   "toc_cell": false,
   "toc_position": {},
   "toc_section_display": true,
   "toc_window_display": false
  },
  "varInspector": {
   "cols": {
    "lenName": 16,
    "lenType": 16,
    "lenVar": 40
   },
   "kernels_config": {
    "python": {
     "delete_cmd_postfix": "",
     "delete_cmd_prefix": "del ",
     "library": "var_list.py",
     "varRefreshCmd": "print(var_dic_list())"
    },
    "r": {
     "delete_cmd_postfix": ") ",
     "delete_cmd_prefix": "rm(",
     "library": "var_list.r",
     "varRefreshCmd": "cat(var_dic_list()) "
    }
   },
   "types_to_exclude": [
    "module",
    "function",
    "builtin_function_or_method",
    "instance",
    "_Feature"
   ],
   "window_display": false
  }
 },
 "nbformat": 4,
 "nbformat_minor": 4
}
